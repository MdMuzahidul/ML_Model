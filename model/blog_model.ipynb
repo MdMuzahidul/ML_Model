{
 "cells": [
  {
   "cell_type": "code",
   "execution_count": 59,
   "id": "87ccf1f3",
   "metadata": {},
   "outputs": [],
   "source": [
    "from pymongo import MongoClient\n",
    "import pandas as pd"
   ]
  },
  {
   "cell_type": "code",
   "execution_count": 60,
   "id": "3319c1f8",
   "metadata": {},
   "outputs": [],
   "source": [
    "uri = \"mongodb://localhost:27017\"\n",
    "client = MongoClient(uri)\n",
    "\n",
    "db = client[\"Books_Recommendation\"]\n",
    "collection = db[\"Blogs\"]"
   ]
  },
  {
   "cell_type": "code",
   "execution_count": 61,
   "id": "befe4383",
   "metadata": {},
   "outputs": [
    {
     "name": "stdout",
     "output_type": "stream",
     "text": [
      "<class 'pandas.core.frame.DataFrame'>\n",
      "RangeIndex: 40 entries, 0 to 39\n",
      "Data columns (total 10 columns):\n",
      " #   Column        Non-Null Count  Dtype \n",
      "---  ------        --------------  ----- \n",
      " 0   _id           40 non-null     object\n",
      " 1   bookTitle     40 non-null     object\n",
      " 2   author        40 non-null     object\n",
      " 3   department    40 non-null     object\n",
      " 4   studentId     40 non-null     object\n",
      " 5   introduction  40 non-null     object\n",
      " 6   content       40 non-null     object\n",
      " 7   conclusion    40 non-null     object\n",
      " 8   date          17 non-null     object\n",
      " 9   title         40 non-null     object\n",
      "dtypes: object(10)\n",
      "memory usage: 3.3+ KB\n"
     ]
    }
   ],
   "source": [
    "data = collection.find()\n",
    "blogs = pd.DataFrame(data)\n",
    "blogs.info()"
   ]
  },
  {
   "cell_type": "code",
   "execution_count": 62,
   "id": "893a751a",
   "metadata": {},
   "outputs": [],
   "source": [
    "blogs['tags']=(\n",
    "    blogs['title'].fillna('').astype(str).apply(lambda x: x.split()) +\n",
    "    blogs['author'].fillna('').astype(str).apply(lambda x: x.split()) +\n",
    "    blogs['bookTitle'].fillna('').astype(str).apply(lambda x: x.split()) +\n",
    "    blogs['content'].fillna('').astype(str).apply(lambda x: x.split()) +\n",
    "    blogs['introduction'].fillna('').astype(str).apply(lambda x: x.split()) +\n",
    "    blogs['conclusion'].fillna('').astype(str).apply(lambda x: x.split()) +\n",
    "    blogs['author'].fillna('').astype(str).apply(lambda x: x.split()) +\n",
    "    blogs['department'].fillna('').astype(str).apply(lambda x: x.split()) \n",
    ")"
   ]
  },
  {
   "cell_type": "code",
   "execution_count": 63,
   "id": "a576ada1",
   "metadata": {},
   "outputs": [
    {
     "data": {
      "text/html": [
       "<div>\n",
       "<style scoped>\n",
       "    .dataframe tbody tr th:only-of-type {\n",
       "        vertical-align: middle;\n",
       "    }\n",
       "\n",
       "    .dataframe tbody tr th {\n",
       "        vertical-align: top;\n",
       "    }\n",
       "\n",
       "    .dataframe thead th {\n",
       "        text-align: right;\n",
       "    }\n",
       "</style>\n",
       "<table border=\"1\" class=\"dataframe\">\n",
       "  <thead>\n",
       "    <tr style=\"text-align: right;\">\n",
       "      <th></th>\n",
       "      <th>_id</th>\n",
       "      <th>bookTitle</th>\n",
       "      <th>author</th>\n",
       "      <th>department</th>\n",
       "      <th>studentId</th>\n",
       "      <th>introduction</th>\n",
       "      <th>content</th>\n",
       "      <th>conclusion</th>\n",
       "      <th>date</th>\n",
       "      <th>title</th>\n",
       "      <th>tags</th>\n",
       "    </tr>\n",
       "  </thead>\n",
       "  <tbody>\n",
       "    <tr>\n",
       "      <th>0</th>\n",
       "      <td>685aeb543504ff8cc1c4dbca</td>\n",
       "      <td>The Kite Runner</td>\n",
       "      <td>MD Muzahidul Islam</td>\n",
       "      <td>CSE</td>\n",
       "      <td>19CSE063</td>\n",
       "      <td>Khaled Hosseini’s The Kite Runner explores the...</td>\n",
       "      <td>The Kite Runner follows the life of Amir, a pr...</td>\n",
       "      <td>Deeply emotional and beautifully written, The ...</td>\n",
       "      <td>2025-06-24T18:15:48.204Z</td>\n",
       "      <td>The Kite Runner: A Story of Friendship, Loss, ...</td>\n",
       "      <td>[The, Kite, Runner:, A, Story, of, Friendship,...</td>\n",
       "    </tr>\n",
       "    <tr>\n",
       "      <th>1</th>\n",
       "      <td>685aec1a3504ff8cc1c4dbcb</td>\n",
       "      <td>Animal Farm</td>\n",
       "      <td>Tushar</td>\n",
       "      <td>EEE</td>\n",
       "      <td>21EEE004</td>\n",
       "      <td>George Orwell’s Animal Farm is a brilliant pol...</td>\n",
       "      <td>Animal Farm begins with a group of farm animal...</td>\n",
       "      <td>Animal Farm is a timeless warning about the da...</td>\n",
       "      <td>2025-06-24T18:19:06.381Z</td>\n",
       "      <td>Animal Farm: A Powerful Allegory of Power and ...</td>\n",
       "      <td>[Animal, Farm:, A, Powerful, Allegory, of, Pow...</td>\n",
       "    </tr>\n",
       "  </tbody>\n",
       "</table>\n",
       "</div>"
      ],
      "text/plain": [
       "                        _id        bookTitle              author department  \\\n",
       "0  685aeb543504ff8cc1c4dbca  The Kite Runner  MD Muzahidul Islam        CSE   \n",
       "1  685aec1a3504ff8cc1c4dbcb      Animal Farm              Tushar        EEE   \n",
       "\n",
       "  studentId                                       introduction  \\\n",
       "0  19CSE063  Khaled Hosseini’s The Kite Runner explores the...   \n",
       "1  21EEE004  George Orwell’s Animal Farm is a brilliant pol...   \n",
       "\n",
       "                                             content  \\\n",
       "0  The Kite Runner follows the life of Amir, a pr...   \n",
       "1  Animal Farm begins with a group of farm animal...   \n",
       "\n",
       "                                          conclusion  \\\n",
       "0  Deeply emotional and beautifully written, The ...   \n",
       "1  Animal Farm is a timeless warning about the da...   \n",
       "\n",
       "                       date  \\\n",
       "0  2025-06-24T18:15:48.204Z   \n",
       "1  2025-06-24T18:19:06.381Z   \n",
       "\n",
       "                                               title  \\\n",
       "0  The Kite Runner: A Story of Friendship, Loss, ...   \n",
       "1  Animal Farm: A Powerful Allegory of Power and ...   \n",
       "\n",
       "                                                tags  \n",
       "0  [The, Kite, Runner:, A, Story, of, Friendship,...  \n",
       "1  [Animal, Farm:, A, Powerful, Allegory, of, Pow...  "
      ]
     },
     "execution_count": 63,
     "metadata": {},
     "output_type": "execute_result"
    }
   ],
   "source": [
    "blogs.head(2)"
   ]
  },
  {
   "cell_type": "code",
   "execution_count": 64,
   "id": "cbaf5ab1",
   "metadata": {},
   "outputs": [],
   "source": [
    "new_tags =blogs.drop(columns=['title', 'date', 'studentId', 'content', 'introduction', 'conclusion'])"
   ]
  },
  {
   "cell_type": "code",
   "execution_count": 65,
   "id": "aae83780",
   "metadata": {},
   "outputs": [
    {
     "data": {
      "text/html": [
       "<div>\n",
       "<style scoped>\n",
       "    .dataframe tbody tr th:only-of-type {\n",
       "        vertical-align: middle;\n",
       "    }\n",
       "\n",
       "    .dataframe tbody tr th {\n",
       "        vertical-align: top;\n",
       "    }\n",
       "\n",
       "    .dataframe thead th {\n",
       "        text-align: right;\n",
       "    }\n",
       "</style>\n",
       "<table border=\"1\" class=\"dataframe\">\n",
       "  <thead>\n",
       "    <tr style=\"text-align: right;\">\n",
       "      <th></th>\n",
       "      <th>_id</th>\n",
       "      <th>bookTitle</th>\n",
       "      <th>author</th>\n",
       "      <th>department</th>\n",
       "      <th>tags</th>\n",
       "    </tr>\n",
       "  </thead>\n",
       "  <tbody>\n",
       "    <tr>\n",
       "      <th>0</th>\n",
       "      <td>685aeb543504ff8cc1c4dbca</td>\n",
       "      <td>The Kite Runner</td>\n",
       "      <td>MD Muzahidul Islam</td>\n",
       "      <td>CSE</td>\n",
       "      <td>The Kite Runner: A Story of Friendship, Loss, ...</td>\n",
       "    </tr>\n",
       "    <tr>\n",
       "      <th>1</th>\n",
       "      <td>685aec1a3504ff8cc1c4dbcb</td>\n",
       "      <td>Animal Farm</td>\n",
       "      <td>Tushar</td>\n",
       "      <td>EEE</td>\n",
       "      <td>Animal Farm: A Powerful Allegory of Power and ...</td>\n",
       "    </tr>\n",
       "  </tbody>\n",
       "</table>\n",
       "</div>"
      ],
      "text/plain": [
       "                        _id        bookTitle              author department  \\\n",
       "0  685aeb543504ff8cc1c4dbca  The Kite Runner  MD Muzahidul Islam        CSE   \n",
       "1  685aec1a3504ff8cc1c4dbcb      Animal Farm              Tushar        EEE   \n",
       "\n",
       "                                                tags  \n",
       "0  The Kite Runner: A Story of Friendship, Loss, ...  \n",
       "1  Animal Farm: A Powerful Allegory of Power and ...  "
      ]
     },
     "execution_count": 65,
     "metadata": {},
     "output_type": "execute_result"
    }
   ],
   "source": [
    "new_tags['tags'] = new_tags['tags'].apply(lambda x: \" \".join(x))\n",
    "new_tags.head(2)"
   ]
  },
  {
   "cell_type": "code",
   "execution_count": 66,
   "id": "8e8dd360",
   "metadata": {},
   "outputs": [],
   "source": [
    "from sklearn.feature_extraction.text import CountVectorizer\n",
    "cv = CountVectorizer(max_features=5000,stop_words='english')"
   ]
  },
  {
   "cell_type": "code",
   "execution_count": 67,
   "id": "81ee2ebb",
   "metadata": {},
   "outputs": [],
   "source": [
    "from sklearn.metrics.pairwise import cosine_similarity"
   ]
  },
  {
   "cell_type": "code",
   "execution_count": 68,
   "id": "b791e5aa",
   "metadata": {},
   "outputs": [],
   "source": [
    "new_tags = new_tags[new_tags['tags'].notnull() & (new_tags['tags'] != '')]\n",
    "\n",
    "# Now vectorize\n",
    "vector = cv.fit_transform(new_tags['tags']).toarray()\n",
    "\n",
    "# Then compute similarity\n",
    "similarity = cosine_similarity(vector)\n"
   ]
  },
  {
   "cell_type": "code",
   "execution_count": 69,
   "id": "b0eb32aa",
   "metadata": {},
   "outputs": [
    {
     "data": {
      "text/plain": [
       "((40, 1813), (40, 40))"
      ]
     },
     "execution_count": 69,
     "metadata": {},
     "output_type": "execute_result"
    }
   ],
   "source": [
    "vector.shape, similarity.shape"
   ]
  },
  {
   "cell_type": "code",
   "execution_count": 70,
   "id": "32bf16d9",
   "metadata": {},
   "outputs": [],
   "source": [
    "def recommend(blogs):\n",
    "    index = new_tags[new_tags['bookTitle'] == blogs].index[0]\n",
    "    distances = sorted(list(enumerate(similarity[index])), reverse=True, key=lambda x: x[1])\n",
    "    for i in distances[1:6]:\n",
    "        print(new_tags.iloc[i[0]]['bookTitle'])"
   ]
  },
  {
   "cell_type": "code",
   "execution_count": 71,
   "id": "b4580456",
   "metadata": {},
   "outputs": [
    {
     "name": "stdout",
     "output_type": "stream",
     "text": [
      "The Kite Runner\n",
      "The Kite Runner\n",
      "The Yearling\n",
      " The Price of Eternal Youth\n",
      "Me and Earl and the Dying Girl\n"
     ]
    }
   ],
   "source": [
    "recommend('The Kite Runner')"
   ]
  },
  {
   "cell_type": "code",
   "execution_count": 53,
   "id": "d6f7e09e",
   "metadata": {},
   "outputs": [],
   "source": [
    "import pickle"
   ]
  },
  {
   "cell_type": "code",
   "execution_count": 54,
   "id": "ae867c3c",
   "metadata": {},
   "outputs": [],
   "source": [
    "pickle.dump(new_tags,open('blog_list.pkl','wb'))\n",
    "pickle.dump(similarity,open('similarity_blog.pkl','wb'))"
   ]
  }
 ],
 "metadata": {
  "kernelspec": {
   "display_name": "base",
   "language": "python",
   "name": "python3"
  },
  "language_info": {
   "codemirror_mode": {
    "name": "ipython",
    "version": 3
   },
   "file_extension": ".py",
   "mimetype": "text/x-python",
   "name": "python",
   "nbconvert_exporter": "python",
   "pygments_lexer": "ipython3",
   "version": "3.12.7"
  }
 },
 "nbformat": 4,
 "nbformat_minor": 5
}
